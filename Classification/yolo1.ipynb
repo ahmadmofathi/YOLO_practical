{
 "cells": [
  {
   "cell_type": "code",
   "execution_count": 2,
   "metadata": {},
   "outputs": [
    {
     "name": "stdout",
     "output_type": "stream",
     "text": [
      "Ultralytics 8.3.49  Python-3.12.6 torch-2.5.1+cpu CPU (Intel Core(TM) i5-1035G1 1.00GHz)\n",
      "\u001b[34m\u001b[1mengine\\trainer: \u001b[0mtask=classify, mode=train, model=yolov8n-cls.pt, data=F:\\University\\Last year of Hell - First Term\\Computer Vision\\Practical\\Practical Task\\Classification\\Alzheimer_s Dataset, epochs=5, time=None, patience=100, batch=16, imgsz=224, save=True, save_period=-1, cache=False, device=None, workers=8, project=None, name=train2, exist_ok=False, pretrained=True, optimizer=auto, verbose=True, seed=0, deterministic=True, single_cls=False, rect=False, cos_lr=False, close_mosaic=10, resume=False, amp=True, fraction=1.0, profile=False, freeze=None, multi_scale=False, overlap_mask=True, mask_ratio=4, dropout=0.0, val=True, split=val, save_json=False, save_hybrid=False, conf=None, iou=0.7, max_det=300, half=False, dnn=False, plots=True, source=None, vid_stride=1, stream_buffer=False, visualize=False, augment=False, agnostic_nms=False, classes=None, retina_masks=False, embed=None, show=False, save_frames=False, save_txt=False, save_conf=False, save_crop=False, show_labels=True, show_conf=True, show_boxes=True, line_width=None, format=torchscript, keras=False, optimize=False, int8=False, dynamic=False, simplify=True, opset=None, workspace=None, nms=False, lr0=0.01, lrf=0.01, momentum=0.937, weight_decay=0.0005, warmup_epochs=3.0, warmup_momentum=0.8, warmup_bias_lr=0.1, box=7.5, cls=0.5, dfl=1.5, pose=12.0, kobj=1.0, nbs=64, hsv_h=0.015, hsv_s=0.7, hsv_v=0.4, degrees=0.0, translate=0.1, scale=0.5, shear=0.0, perspective=0.0, flipud=0.0, fliplr=0.5, bgr=0.0, mosaic=1.0, mixup=0.0, copy_paste=0.0, copy_paste_mode=flip, auto_augment=randaugment, erasing=0.4, crop_fraction=1.0, cfg=None, tracker=botsort.yaml, save_dir=C:\\Users\\ahmad\\runs\\classify\\train2\n",
      "\u001b[34m\u001b[1mtrain:\u001b[0m F:\\University\\Last year of Hell - First Term\\Computer Vision\\Practical\\Practical Task\\Classification\\Alzheimer_s Dataset\\train... found 5121 images in 4 classes  \n",
      "\u001b[34m\u001b[1mval:\u001b[0m None...\n",
      "\u001b[34m\u001b[1mtest:\u001b[0m F:\\University\\Last year of Hell - First Term\\Computer Vision\\Practical\\Practical Task\\Classification\\Alzheimer_s Dataset\\test... found 1279 images in 4 classes  \n",
      "Overriding model.yaml nc=1000 with nc=4\n",
      "\n",
      "                   from  n    params  module                                       arguments                     \n",
      "  0                  -1  1       464  ultralytics.nn.modules.conv.Conv             [3, 16, 3, 2]                 \n",
      "  1                  -1  1      4672  ultralytics.nn.modules.conv.Conv             [16, 32, 3, 2]                \n",
      "  2                  -1  1      7360  ultralytics.nn.modules.block.C2f             [32, 32, 1, True]             \n",
      "  3                  -1  1     18560  ultralytics.nn.modules.conv.Conv             [32, 64, 3, 2]                \n",
      "  4                  -1  2     49664  ultralytics.nn.modules.block.C2f             [64, 64, 2, True]             \n",
      "  5                  -1  1     73984  ultralytics.nn.modules.conv.Conv             [64, 128, 3, 2]               \n",
      "  6                  -1  2    197632  ultralytics.nn.modules.block.C2f             [128, 128, 2, True]           \n",
      "  7                  -1  1    295424  ultralytics.nn.modules.conv.Conv             [128, 256, 3, 2]              \n",
      "  8                  -1  1    460288  ultralytics.nn.modules.block.C2f             [256, 256, 1, True]           \n",
      "  9                  -1  1    335364  ultralytics.nn.modules.head.Classify         [256, 4]                      \n",
      "YOLOv8n-cls summary: 99 layers, 1,443,412 parameters, 1,443,412 gradients, 3.4 GFLOPs\n",
      "Transferred 156/158 items from pretrained weights\n"
     ]
    },
    {
     "name": "stderr",
     "output_type": "stream",
     "text": [
      "\u001b[34m\u001b[1mtrain: \u001b[0mScanning F:\\University\\Last year of Hell - First Term\\Computer Vision\\Practical\\Practical Task\\Classification\\Alzheimer_s Dataset\\train... 5121 images, 0 corrupt: 100%|██████████| 5121/5121 [00:11<00:00, 465.01it/s]\n"
     ]
    },
    {
     "name": "stdout",
     "output_type": "stream",
     "text": [
      "\u001b[34m\u001b[1mtrain: \u001b[0mNew cache created: F:\\University\\Last year of Hell - First Term\\Computer Vision\\Practical\\Practical Task\\Classification\\Alzheimer_s Dataset\\train.cache\n"
     ]
    },
    {
     "name": "stderr",
     "output_type": "stream",
     "text": [
      "\u001b[34m\u001b[1mval: \u001b[0mScanning F:\\University\\Last year of Hell - First Term\\Computer Vision\\Practical\\Practical Task\\Classification\\Alzheimer_s Dataset\\test... 1279 images, 0 corrupt: 100%|██████████| 1279/1279 [00:04<00:00, 281.87it/s]\n"
     ]
    },
    {
     "name": "stdout",
     "output_type": "stream",
     "text": [
      "\u001b[34m\u001b[1mval: \u001b[0mNew cache created: F:\\University\\Last year of Hell - First Term\\Computer Vision\\Practical\\Practical Task\\Classification\\Alzheimer_s Dataset\\test.cache\n",
      "\u001b[34m\u001b[1moptimizer:\u001b[0m 'optimizer=auto' found, ignoring 'lr0=0.01' and 'momentum=0.937' and determining best 'optimizer', 'lr0' and 'momentum' automatically... \n",
      "\u001b[34m\u001b[1moptimizer:\u001b[0m AdamW(lr=0.000714, momentum=0.9) with parameter groups 26 weight(decay=0.0), 27 weight(decay=0.0005), 27 bias(decay=0.0)\n",
      "Image sizes 224 train, 224 val\n",
      "Using 0 dataloader workers\n",
      "Logging results to \u001b[1mC:\\Users\\ahmad\\runs\\classify\\train2\u001b[0m\n",
      "Starting training for 5 epochs...\n",
      "\n",
      "      Epoch    GPU_mem       loss  Instances       Size\n"
     ]
    },
    {
     "name": "stderr",
     "output_type": "stream",
     "text": [
      "        1/5         0G      1.409         16        224:   1%|          | 4/321 [00:01<02:20,  2.26it/s]"
     ]
    },
    {
     "name": "stdout",
     "output_type": "stream",
     "text": [
      "Downloading https://ultralytics.com/assets/Arial.ttf to 'C:\\Users\\ahmad\\AppData\\Roaming\\Ultralytics\\Arial.ttf'...\n"
     ]
    },
    {
     "name": "stderr",
     "output_type": "stream",
     "text": [
      "100%|██████████| 755k/755k [00:14<00:00, 53.4kB/s]  224:  12%|█▏        | 38/321 [00:17<02:18,  2.04it/s]\n",
      "        1/5         0G      1.039          1        224: 100%|██████████| 321/321 [03:31<00:00,  1.52it/s]\n",
      "               classes   top1_acc   top5_acc: 100%|██████████| 40/40 [00:16<00:00,  2.40it/s]"
     ]
    },
    {
     "name": "stdout",
     "output_type": "stream",
     "text": [
      "                   all       0.55          1\n"
     ]
    },
    {
     "name": "stderr",
     "output_type": "stream",
     "text": [
      "\n"
     ]
    },
    {
     "name": "stdout",
     "output_type": "stream",
     "text": [
      "\n",
      "      Epoch    GPU_mem       loss  Instances       Size\n"
     ]
    },
    {
     "name": "stderr",
     "output_type": "stream",
     "text": [
      "        2/5         0G      0.871          1        224: 100%|██████████| 321/321 [03:29<00:00,  1.53it/s]\n",
      "               classes   top1_acc   top5_acc: 100%|██████████| 40/40 [00:20<00:00,  1.92it/s]"
     ]
    },
    {
     "name": "stdout",
     "output_type": "stream",
     "text": [
      "                   all      0.596          1\n"
     ]
    },
    {
     "name": "stderr",
     "output_type": "stream",
     "text": [
      "\n"
     ]
    },
    {
     "name": "stdout",
     "output_type": "stream",
     "text": [
      "\n",
      "      Epoch    GPU_mem       loss  Instances       Size\n"
     ]
    },
    {
     "name": "stderr",
     "output_type": "stream",
     "text": [
      "        3/5         0G     0.8189          1        224: 100%|██████████| 321/321 [03:19<00:00,  1.61it/s]\n",
      "               classes   top1_acc   top5_acc: 100%|██████████| 40/40 [00:14<00:00,  2.79it/s]"
     ]
    },
    {
     "name": "stdout",
     "output_type": "stream",
     "text": [
      "                   all      0.551          1\n"
     ]
    },
    {
     "name": "stderr",
     "output_type": "stream",
     "text": [
      "\n"
     ]
    },
    {
     "name": "stdout",
     "output_type": "stream",
     "text": [
      "\n",
      "      Epoch    GPU_mem       loss  Instances       Size\n"
     ]
    },
    {
     "name": "stderr",
     "output_type": "stream",
     "text": [
      "        4/5         0G     0.7661          1        224: 100%|██████████| 321/321 [03:35<00:00,  1.49it/s]\n",
      "               classes   top1_acc   top5_acc: 100%|██████████| 40/40 [00:17<00:00,  2.23it/s]"
     ]
    },
    {
     "name": "stdout",
     "output_type": "stream",
     "text": [
      "                   all      0.625          1\n"
     ]
    },
    {
     "name": "stderr",
     "output_type": "stream",
     "text": [
      "\n"
     ]
    },
    {
     "name": "stdout",
     "output_type": "stream",
     "text": [
      "\n",
      "      Epoch    GPU_mem       loss  Instances       Size\n"
     ]
    },
    {
     "name": "stderr",
     "output_type": "stream",
     "text": [
      "        5/5         0G     0.7003          1        224: 100%|██████████| 321/321 [03:28<00:00,  1.54it/s]\n",
      "               classes   top1_acc   top5_acc: 100%|██████████| 40/40 [00:23<00:00,  1.69it/s]"
     ]
    },
    {
     "name": "stdout",
     "output_type": "stream",
     "text": [
      "                   all      0.658          1\n"
     ]
    },
    {
     "name": "stderr",
     "output_type": "stream",
     "text": [
      "\n"
     ]
    },
    {
     "name": "stdout",
     "output_type": "stream",
     "text": [
      "\n",
      "5 epochs completed in 0.318 hours.\n",
      "Optimizer stripped from C:\\Users\\ahmad\\runs\\classify\\train2\\weights\\last.pt, 3.0MB\n",
      "Optimizer stripped from C:\\Users\\ahmad\\runs\\classify\\train2\\weights\\best.pt, 3.0MB\n",
      "\n",
      "Validating C:\\Users\\ahmad\\runs\\classify\\train2\\weights\\best.pt...\n",
      "Ultralytics 8.3.49  Python-3.12.6 torch-2.5.1+cpu CPU (Intel Core(TM) i5-1035G1 1.00GHz)\n",
      "YOLOv8n-cls summary (fused): 73 layers, 1,440,004 parameters, 0 gradients, 3.3 GFLOPs\n",
      "WARNING  Dataset 'split=val' not found, using 'split=test' instead.\n",
      "\u001b[34m\u001b[1mtrain:\u001b[0m F:\\University\\Last year of Hell - First Term\\Computer Vision\\Practical\\Practical Task\\Classification\\Alzheimer_s Dataset\\train... found 5121 images in 4 classes  \n",
      "\u001b[34m\u001b[1mval:\u001b[0m None...\n",
      "\u001b[34m\u001b[1mtest:\u001b[0m F:\\University\\Last year of Hell - First Term\\Computer Vision\\Practical\\Practical Task\\Classification\\Alzheimer_s Dataset\\test... found 1279 images in 4 classes  \n"
     ]
    },
    {
     "name": "stderr",
     "output_type": "stream",
     "text": [
      "               classes   top1_acc   top5_acc: 100%|██████████| 40/40 [00:19<00:00,  2.10it/s]\n"
     ]
    },
    {
     "name": "stdout",
     "output_type": "stream",
     "text": [
      "                   all      0.658          1\n",
      "Speed: 0.0ms preprocess, 8.1ms inference, 0.0ms loss, 0.0ms postprocess per image\n",
      "Results saved to \u001b[1mC:\\Users\\ahmad\\runs\\classify\\train2\u001b[0m\n"
     ]
    },
    {
     "data": {
      "text/plain": [
       "ultralytics.utils.metrics.ClassifyMetrics object with attributes:\n",
       "\n",
       "confusion_matrix: <ultralytics.utils.metrics.ConfusionMatrix object at 0x0000026592EAFFB0>\n",
       "curves: []\n",
       "curves_results: []\n",
       "fitness: 0.8291634023189545\n",
       "keys: ['metrics/accuracy_top1', 'metrics/accuracy_top5']\n",
       "results_dict: {'metrics/accuracy_top1': 0.6583268046379089, 'metrics/accuracy_top5': 1.0, 'fitness': 0.8291634023189545}\n",
       "save_dir: WindowsPath('C:/Users/ahmad/runs/classify/train2')\n",
       "speed: {'preprocess': 0.0, 'inference': 8.114144613819256, 'loss': 0.0, 'postprocess': 0.0}\n",
       "task: 'classify'\n",
       "top1: 0.6583268046379089\n",
       "top5: 1.0"
      ]
     },
     "execution_count": 2,
     "metadata": {},
     "output_type": "execute_result"
    }
   ],
   "source": [
    "from ultralytics import YOLO\n",
    "model = YOLO('yolov8n-cls.pt')\n",
    "model.train(data=\"F:\\\\University\\\\Last year of Hell - First Term\\\\Computer Vision\\\\Practical\\\\Practical Task\\\\Classification\\\\Alzheimer_s Dataset\", epochs=5)"
   ]
  },
  {
   "cell_type": "code",
   "execution_count": 17,
   "metadata": {},
   "outputs": [
    {
     "name": "stdout",
     "output_type": "stream",
     "text": [
      "Ultralytics 8.3.49  Python-3.12.6 torch-2.5.1+cpu CPU (Intel Core(TM) i5-1035G1 1.00GHz)\n",
      "\u001b[34m\u001b[1mtrain:\u001b[0m F:\\University\\Last year of Hell - First Term\\Computer Vision\\Practical\\Practical Task\\Classification\\Alzheimer_s Dataset\\train... found 5121 images in 4 classes  \n",
      "\u001b[34m\u001b[1mval:\u001b[0m None...\n",
      "\u001b[34m\u001b[1mtest:\u001b[0m F:\\University\\Last year of Hell - First Term\\Computer Vision\\Practical\\Practical Task\\Classification\\Alzheimer_s Dataset\\test... found 1279 images in 4 classes  \n"
     ]
    },
    {
     "name": "stderr",
     "output_type": "stream",
     "text": [
      "\u001b[34m\u001b[1mtest: \u001b[0mScanning F:\\University\\Last year of Hell - First Term\\Computer Vision\\Practical\\Practical Task\\Classification\\Alzheimer_s Dataset\\test... 1279 images, 0 corrupt: 100%|██████████| 1279/1279 [00:00<?, ?it/s]\n",
      "               classes   top1_acc   top5_acc: 100%|██████████| 80/80 [00:58<00:00,  1.37it/s]\n"
     ]
    },
    {
     "name": "stdout",
     "output_type": "stream",
     "text": [
      "                   all      0.463          1\n",
      "Speed: 0.0ms preprocess, 14.6ms inference, 0.0ms loss, 0.0ms postprocess per image\n",
      "Results saved to \u001b[1mC:\\Users\\ahmad\\runs\\classify\\train210\u001b[0m\n"
     ]
    },
    {
     "data": {
      "text/plain": [
       "1.0"
      ]
     },
     "execution_count": 17,
     "metadata": {},
     "output_type": "execute_result"
    }
   ],
   "source": [
    "metrics = model.val(split='test')\n",
    "metrics.top1\n",
    "metrics.top5"
   ]
  },
  {
   "cell_type": "code",
   "execution_count": 18,
   "metadata": {},
   "outputs": [
    {
     "name": "stdout",
     "output_type": "stream",
     "text": [
      "\n",
      "image 1/1 F:\\University\\Last year of Hell - First Term\\Computer Vision\\Practical\\Practical Task\\Classification\\Alzheimer_s Dataset\\test\\NonDemented\\26 (62).jpg: 224x224 NonDemented 0.34, MildDemented 0.31, VeryMildDemented 0.23, ModerateDemented 0.12, 90.8ms\n",
      "Speed: 15.7ms preprocess, 90.8ms inference, 0.0ms postprocess per image at shape (1, 3, 224, 224)\n",
      "tensor([0.3103, 0.1228, 0.3364, 0.2305])\n"
     ]
    }
   ],
   "source": [
    "results = model.predict(\"F:\\\\University\\\\Last year of Hell - First Term\\\\Computer Vision\\\\Practical\\\\Practical Task\\\\Classification\\\\Alzheimer_s Dataset\\\\test\\\\NonDemented\\\\26 (62).jpg\")\n",
    "if isinstance(results, list) and len(results) > 0:\n",
    "    probs = results[0].probs\n",
    "    print(probs.data)\n",
    "else:\n",
    "    print(\"Prediction results are not in the expected format.\")"
   ]
  }
 ],
 "metadata": {
  "kernelspec": {
   "display_name": "Python 3",
   "language": "python",
   "name": "python3"
  },
  "language_info": {
   "codemirror_mode": {
    "name": "ipython",
    "version": 3
   },
   "file_extension": ".py",
   "mimetype": "text/x-python",
   "name": "python",
   "nbconvert_exporter": "python",
   "pygments_lexer": "ipython3",
   "version": "3.12.6"
  }
 },
 "nbformat": 4,
 "nbformat_minor": 2
}
